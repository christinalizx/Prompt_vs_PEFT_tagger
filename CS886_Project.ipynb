{
 "cells": [
  {
   "cell_type": "code",
   "execution_count": null,
   "metadata": {},
   "outputs": [
    {
     "name": "stdout",
     "output_type": "stream",
     "text": [
      "--- Starting Stage 1: Data Preparation ---\n",
      "Theme optimization complete with new mapping.\n"
     ]
    },
    {
     "name": "stderr",
     "output_type": "stream",
     "text": [
      "Casting the dataset: 100%|██████████| 612/612 [00:00<00:00, 30461.31 examples/s]\n",
      "Casting the dataset: 100%|██████████| 109/109 [00:00<00:00, 17459.58 examples/s]\n",
      "Casting the dataset: 100%|██████████| 128/128 [00:00<00:00, 50137.37 examples/s]"
     ]
    },
    {
     "name": "stdout",
     "output_type": "stream",
     "text": [
      "Data preparation complete.\n",
      "Final themes after re-mapping: ['Communicating through technology', 'boundaries', 'code about parent only', 'common ground impacting communication', 'communication dynamics', 'explicit boundaries', 'help and support', 'implicit boundaries']\n"
     ]
    },
    {
     "name": "stderr",
     "output_type": "stream",
     "text": [
      "\n",
      "Map: 100%|██████████| 612/612 [00:00<00:00, 20897.25 examples/s]\n",
      "Map: 100%|██████████| 109/109 [00:00<00:00, 16239.09 examples/s]\n",
      "Map: 100%|██████████| 128/128 [00:00<00:00, 17462.62 examples/s]\n"
     ]
    },
    {
     "name": "stdout",
     "output_type": "stream",
     "text": [
      "\n",
      "--- Starting Stage 3: PEFT (LoRA) ---\n"
     ]
    },
    {
     "name": "stderr",
     "output_type": "stream",
     "text": [
      "Some weights of LlamaForSequenceClassification were not initialized from the model checkpoint at TinyLlama/TinyLlama-1.1B-Chat-v1.0 and are newly initialized: ['score.weight']\n",
      "You should probably TRAIN this model on a down-stream task to be able to use it for predictions and inference.\n",
      "/Users/zixili/Library/Python/3.9/lib/python/site-packages/transformers/training_args.py:2270: UserWarning: `use_mps_device` is deprecated and will be removed in version 5.0 of 🤗 Transformers. `mps` device will be used by default if available similar to the way `cuda` device is used.Therefore, no action from user is required. \n",
      "  warnings.warn(\n",
      "/var/folders/2y/nq8q3gp92w34lz81958ltns00000gn/T/ipykernel_2100/1021609441.py:181: FutureWarning: `tokenizer` is deprecated and will be removed in version 5.0.0 for `Trainer.__init__`. Use `processing_class` instead.\n",
      "  trainer = Trainer(\n",
      "No label_names provided for model class `PeftModelForSequenceClassification`. Since `PeftModel` hides base models input arguments, if label_names is not given, label_names can't be set automatically within `Trainer`. Note that empty label_names list will be used instead.\n",
      "/Users/zixili/Library/Python/3.9/lib/python/site-packages/torch/utils/data/dataloader.py:683: UserWarning: 'pin_memory' argument is set as true but not supported on MPS now, then device pinned memory won't be used.\n",
      "  warnings.warn(warn_msg)\n"
     ]
    },
    {
     "data": {
      "text/html": [
       "\n",
       "    <div>\n",
       "      \n",
       "      <progress value='765' max='765' style='width:300px; height:20px; vertical-align: middle;'></progress>\n",
       "      [765/765 04:17, Epoch 5/5]\n",
       "    </div>\n",
       "    <table border=\"1\" class=\"dataframe\">\n",
       "  <thead>\n",
       " <tr style=\"text-align: left;\">\n",
       "      <th>Epoch</th>\n",
       "      <th>Training Loss</th>\n",
       "      <th>Validation Loss</th>\n",
       "      <th>Accuracy</th>\n",
       "      <th>F1 Macro</th>\n",
       "    </tr>\n",
       "  </thead>\n",
       "  <tbody>\n",
       "    <tr>\n",
       "      <td>1</td>\n",
       "      <td>3.256200</td>\n",
       "      <td>2.685988</td>\n",
       "      <td>0.073394</td>\n",
       "      <td>0.071086</td>\n",
       "    </tr>\n",
       "    <tr>\n",
       "      <td>2</td>\n",
       "      <td>2.012600</td>\n",
       "      <td>1.948214</td>\n",
       "      <td>0.376147</td>\n",
       "      <td>0.132098</td>\n",
       "    </tr>\n",
       "    <tr>\n",
       "      <td>3</td>\n",
       "      <td>1.678300</td>\n",
       "      <td>1.756882</td>\n",
       "      <td>0.449541</td>\n",
       "      <td>0.172430</td>\n",
       "    </tr>\n",
       "    <tr>\n",
       "      <td>4</td>\n",
       "      <td>1.362200</td>\n",
       "      <td>1.624498</td>\n",
       "      <td>0.467890</td>\n",
       "      <td>0.244688</td>\n",
       "    </tr>\n",
       "    <tr>\n",
       "      <td>5</td>\n",
       "      <td>1.003200</td>\n",
       "      <td>1.614939</td>\n",
       "      <td>0.504587</td>\n",
       "      <td>0.278148</td>\n",
       "    </tr>\n",
       "  </tbody>\n",
       "</table><p>"
      ],
      "text/plain": [
       "<IPython.core.display.HTML object>"
      ]
     },
     "metadata": {},
     "output_type": "display_data"
    },
    {
     "name": "stderr",
     "output_type": "stream",
     "text": [
      "/Users/zixili/Library/Python/3.9/lib/python/site-packages/torch/utils/data/dataloader.py:683: UserWarning: 'pin_memory' argument is set as true but not supported on MPS now, then device pinned memory won't be used.\n",
      "  warnings.warn(warn_msg)\n",
      "/Users/zixili/Library/Python/3.9/lib/python/site-packages/torch/utils/data/dataloader.py:683: UserWarning: 'pin_memory' argument is set as true but not supported on MPS now, then device pinned memory won't be used.\n",
      "  warnings.warn(warn_msg)\n",
      "/Users/zixili/Library/Python/3.9/lib/python/site-packages/torch/utils/data/dataloader.py:683: UserWarning: 'pin_memory' argument is set as true but not supported on MPS now, then device pinned memory won't be used.\n",
      "  warnings.warn(warn_msg)\n",
      "/Users/zixili/Library/Python/3.9/lib/python/site-packages/torch/utils/data/dataloader.py:683: UserWarning: 'pin_memory' argument is set as true but not supported on MPS now, then device pinned memory won't be used.\n",
      "  warnings.warn(warn_msg)\n"
     ]
    },
    {
     "name": "stdout",
     "output_type": "stream",
     "text": [
      "PEFT training complete.\n",
      "\n",
      "--- Evaluating Final LoRA Model on Test Set ---\n"
     ]
    },
    {
     "name": "stderr",
     "output_type": "stream",
     "text": [
      "/Users/zixili/Library/Python/3.9/lib/python/site-packages/torch/utils/data/dataloader.py:683: UserWarning: 'pin_memory' argument is set as true but not supported on MPS now, then device pinned memory won't be used.\n",
      "  warnings.warn(warn_msg)\n"
     ]
    },
    {
     "data": {
      "text/html": [
       "\n",
       "    <div>\n",
       "      \n",
       "      <progress value='32' max='32' style='width:300px; height:20px; vertical-align: middle;'></progress>\n",
       "      [32/32 00:04]\n",
       "    </div>\n",
       "    "
      ],
      "text/plain": [
       "<IPython.core.display.HTML object>"
      ]
     },
     "metadata": {},
     "output_type": "display_data"
    },
    {
     "name": "stdout",
     "output_type": "stream",
     "text": [
      "\n",
      "--- Final LoRA Model Performance ---\n",
      "Loss: 1.4877\n",
      "Accuracy: 0.5312\n",
      "F1_macro: 0.2644\n",
      "Runtime: 12.6218\n",
      "Samples_per_second: 10.1410\n",
      "Steps_per_second: 2.5350\n",
      "\n",
      "Full evaluation results saved to final_lora_evaluation.json\n",
      "\n",
      "--- LoRA Performance Per Epoch (on Validation Set) ---\n",
      "Epoch 1.00: Accuracy = 0.0734, Macro-F1 = 0.0711\n",
      "Epoch 2.00: Accuracy = 0.3761, Macro-F1 = 0.1321\n",
      "Epoch 3.00: Accuracy = 0.4495, Macro-F1 = 0.1724\n",
      "Epoch 4.00: Accuracy = 0.4679, Macro-F1 = 0.2447\n",
      "Epoch 5.00: Accuracy = 0.5046, Macro-F1 = 0.2781\n",
      "Epoch 5.00: Accuracy = 0.5312, Macro-F1 = 0.2644\n"
     ]
    }
   ],
   "source": [
    "import pandas as pd\n",
    "import re\n",
    "from sklearn.model_selection import train_test_split\n",
    "from datasets import Dataset, DatasetDict, ClassLabel\n",
    "from transformers import (\n",
    "    AutoTokenizer,\n",
    "    AutoModelForSequenceClassification,\n",
    "    AutoModelForCausalLM,\n",
    "    TrainingArguments,\n",
    "    Trainer,\n",
    "    DataCollatorWithPadding,\n",
    ")\n",
    "from peft import LoraConfig, get_peft_model, prepare_model_for_kbit_training\n",
    "import torch\n",
    "import numpy as np\n",
    "from sklearn.metrics import accuracy_score, f1_score, classification_report\n",
    "import json\n",
    "import os\n",
    "from tqdm import tqdm\n",
    "\n",
    "# To disable the huggingface/tokenizers parallelism warning\n",
    "os.environ[\"TOKENIZERS_PARALLELISM\"] = \"false\"\n",
    "\n",
    "# --- Stage 1: Data Preparation ---\n",
    "class DataPreparer:\n",
    "    \"\"\"\n",
    "    Handles loading, cleaning, and splitting the dataset.\n",
    "    \"\"\"\n",
    "    def __init__(self, file_path, random_seed=42):\n",
    "        self.file_path = file_path\n",
    "        self.random_seed = random_seed\n",
    "\n",
    "    def load_and_prepare(self):\n",
    "        \"\"\"Loads and prepares the dataset from the CSV file.\"\"\"\n",
    "        print(\"--- Starting Stage 1: Data Preparation ---\")\n",
    "        self.df = pd.read_csv(f\"{self.file_path}.csv\")\n",
    "        self.df = self.df.rename(columns={\"code\": \"utterance\", \"theme\": \"label\"})\n",
    "        self.df[\"utterance\"] = self.df[\"utterance\"].astype(str).apply(lambda x: re.sub(r\"^\\[.*?\\]\\s*\", \"\", x).strip())\n",
    "        self.df.dropna(subset=['label', 'utterance'], inplace=True)\n",
    "\n",
    "        theme_map = {\n",
    "            'communication through tech': 'Communicating through technology',\n",
    "            'issues in communication due to technology': 'Communicating through technology',\n",
    "        }\n",
    "        self.df['label'] = self.df['label'].replace(theme_map)\n",
    "        print(\"Theme optimization complete with new mapping.\")\n",
    "\n",
    "        self.df[\"label\"] = pd.Categorical(self.df[\"label\"])\n",
    "        self.themes = list(self.df['label'].cat.categories)\n",
    "        self.df[\"label\"] = self.df[\"label\"].cat.codes\n",
    "\n",
    "        train_val_df, test_df = train_test_split(\n",
    "            self.df, test_size=0.15, random_state=self.random_seed, stratify=self.df[\"label\"]\n",
    "        )\n",
    "        train_df, dev_df = train_test_split(\n",
    "            train_val_df, test_size=0.15, random_state=self.random_seed, stratify=train_val_df[\"label\"]\n",
    "        )\n",
    "\n",
    "        self.dataset = DatasetDict({\n",
    "            \"train\": Dataset.from_pandas(train_df),\n",
    "            \"validation\": Dataset.from_pandas(dev_df),\n",
    "            \"test\": Dataset.from_pandas(test_df),\n",
    "        })\n",
    "\n",
    "        class_label_feature = ClassLabel(names=self.themes)\n",
    "        self.dataset = self.dataset.cast_column(\"label\", class_label_feature)\n",
    "\n",
    "        print(\"Data preparation complete.\")\n",
    "        print(f\"Final themes after re-mapping: {self.themes}\")\n",
    "        return self.dataset, self.themes\n",
    "\n",
    "# --- Stage 2: Prompt-Only Baseline ---\n",
    "class PromptOnlyBaseline:\n",
    "    \"\"\"\n",
    "    Evaluates zero-shot, four-shot, and chain-of-thought prompting baselines.\n",
    "    \"\"\"\n",
    "    def __init__(self, model_name, themes):\n",
    "        self.model_name = model_name\n",
    "        self.themes = themes\n",
    "        self.tokenizer = AutoTokenizer.from_pretrained(model_name)\n",
    "        self.model = AutoModelForCausalLM.from_pretrained(model_name)\n",
    "        if self.tokenizer.pad_token is None:\n",
    "            self.tokenizer.pad_token = self.tokenizer.eos_token\n",
    "\n",
    "    def _get_prediction(self, prompt):\n",
    "        \"\"\"Generates a response and parses the theme.\"\"\"\n",
    "        inputs = self.tokenizer(prompt, return_tensors=\"pt\", max_length=256, truncation=True)\n",
    "        outputs = self.model.generate(**inputs, max_new_tokens=20, pad_token_id=self.tokenizer.eos_token_id)\n",
    "        generated_text = self.tokenizer.decode(outputs[0], skip_special_tokens=True)\n",
    "        \n",
    "        for i, theme in enumerate(self.themes):\n",
    "            if theme.lower() in generated_text.lower():\n",
    "                return i\n",
    "        return -1\n",
    "\n",
    "    def evaluate(self, test_dataset, strategy=\"zero_shot\"):\n",
    "        print(f\"\\n--- Evaluating Prompt-Only Baseline ({strategy}) ---\")\n",
    "        predictions, true_labels = [], []\n",
    "        \n",
    "        four_shot_examples = None\n",
    "        if strategy == \"four_shot\":\n",
    "            four_shot_examples = self.dataset['train'].shuffle(seed=42).select(range(4))\n",
    "\n",
    "        for item in tqdm(test_dataset, desc=f\"Running {strategy} evaluation\"):\n",
    "            utterance = item['utterance']\n",
    "            true_label = item['label']\n",
    "\n",
    "            if strategy == \"zero_shot\":\n",
    "                prompt = f\"Classify the following utterance into one of these themes: {', '.join(self.themes)}. Utterance: '{utterance}'\\nTheme:\"\n",
    "            elif strategy == \"four_shot\":\n",
    "                 example_str = \"\\n\".join([f\"Utterance: '{ex['utterance']}'\\nTheme: {self.themes[ex['label']]}\" for ex in four_shot_examples])\n",
    "                 prompt = f\"{example_str}\\n\\nUtterance: '{utterance}'\\nTheme:\"\n",
    "            elif strategy == \"chain_of_thought\":\n",
    "                prompt = f\"Let's think step by step. The themes are: {', '.join(self.themes)}. The utterance is: '{utterance}'. Analyze the utterance and determine the most fitting theme.\\nReasoning: The utterance is about... Therefore, the best theme is \"\n",
    "\n",
    "            predicted_label = self._get_prediction(prompt)\n",
    "            predictions.append(predicted_label)\n",
    "            true_labels.append(true_label)\n",
    "            \n",
    "        accuracy = accuracy_score(true_labels, predictions)\n",
    "        f1 = f1_score(true_labels, predictions, average=\"macro\", zero_division=0)\n",
    "\n",
    "        print(f\"Results for {strategy}:\")\n",
    "        print(f\"  Accuracy: {accuracy:.4f}\")\n",
    "        print(f\"  Macro-F1 Score: {f1:.4f}\")\n",
    "        return {\"accuracy\": accuracy, \"f1_macro\": f1}\n",
    "\n",
    "# --- Stage 3: Fine-Tuning (PEFT) ---\n",
    "def compute_metrics(eval_pred):\n",
    "    \"\"\"Computes accuracy and F1 score for the Trainer.\"\"\"\n",
    "    predictions, labels = eval_pred\n",
    "    predictions = np.argmax(predictions, axis=1)\n",
    "    accuracy = accuracy_score(labels, predictions)\n",
    "    f1 = f1_score(labels, predictions, average=\"macro\")\n",
    "    return {\"accuracy\": accuracy, \"f1_macro\": f1}\n",
    "\n",
    "class LoRATrainer:\n",
    "    \"\"\"\n",
    "    Handles the fine-tuning of the model using LoRA.\n",
    "    \"\"\"\n",
    "    def __init__(self, model_name=\"TinyLlama/TinyLlama-1.1B-Chat-v1.0\"):\n",
    "        self.model_name = model_name\n",
    "        self.tokenizer = AutoTokenizer.from_pretrained(self.model_name)\n",
    "        if self.tokenizer.pad_token is None:\n",
    "            self.tokenizer.pad_token = self.tokenizer.eos_token\n",
    "\n",
    "    def train(self, tokenized_dataset):\n",
    "        \"\"\"Trains the model.\"\"\"\n",
    "        print(\"\\n--- Starting Stage 3: PEFT (LoRA) ---\")\n",
    "        num_labels = tokenized_dataset[\"train\"].features[\"label\"].num_classes\n",
    "\n",
    "        model = AutoModelForSequenceClassification.from_pretrained(self.model_name, num_labels=num_labels)\n",
    "        model.config.pad_token_id = model.config.eos_token_id\n",
    "        model = prepare_model_for_kbit_training(model)\n",
    "\n",
    "        lora_config = LoraConfig(\n",
    "            r=8, lora_alpha=16, target_modules=[\"q_proj\", \"v_proj\"],\n",
    "            lora_dropout=0.05, bias=\"none\", task_type=\"SEQ_CLS\",\n",
    "        )\n",
    "        model = get_peft_model(model, lora_config)\n",
    "\n",
    "        training_args = TrainingArguments(\n",
    "            output_dir=\"./results-lora\",\n",
    "            num_train_epochs=5,\n",
    "            per_device_train_batch_size=4,\n",
    "            per_device_eval_batch_size=4,\n",
    "            warmup_steps=500,\n",
    "            weight_decay=0.01,\n",
    "            logging_dir=\"./logs\",\n",
    "            logging_steps=50,\n",
    "            eval_strategy=\"epoch\",\n",
    "            save_strategy=\"epoch\",\n",
    "            load_best_model_at_end=True,\n",
    "            use_mps_device=torch.backends.mps.is_available(),\n",
    "            report_to=\"none\",\n",
    "        )\n",
    "\n",
    "        data_collator = DataCollatorWithPadding(tokenizer=self.tokenizer)\n",
    "\n",
    "        trainer = Trainer(\n",
    "            model=model, args=training_args,\n",
    "            train_dataset=tokenized_dataset[\"train\"],\n",
    "            eval_dataset=tokenized_dataset[\"validation\"],\n",
    "            tokenizer=self.tokenizer,\n",
    "            data_collator=data_collator,\n",
    "            compute_metrics=compute_metrics,\n",
    "        )\n",
    "\n",
    "        trainer.train()\n",
    "        print(\"PEFT training complete.\")\n",
    "        return trainer\n",
    "\n",
    "# --- Main Execution ---\n",
    "if __name__ == \"__main__\":\n",
    "    FILE_PATH = \"codes-v1(sorted)\"\n",
    "    MODEL_NAME = \"TinyLlama/TinyLlama-1.1B-Chat-v1.0\"\n",
    "\n",
    "    # 1. Data Preparation\n",
    "    data_preparer = DataPreparer(FILE_PATH)\n",
    "    dataset, themes_from_data = data_preparer.load_and_prepare()\n",
    "\n",
    "    if dataset:\n",
    "        # 2. Prompt-Only Baselines\n",
    "        prompt_baseline_evaluator = PromptOnlyBaseline(MODEL_NAME, themes_from_data)\n",
    "        prompt_baseline_evaluator.dataset = dataset # Pass dataset for four-shot sampling\n",
    "        prompt_baseline_evaluator.evaluate(dataset['test'], strategy=\"zero_shot\")\n",
    "        prompt_baseline_evaluator.evaluate(dataset['test'], strategy=\"four_shot\")\n",
    "        prompt_baseline_evaluator.evaluate(dataset['test'], strategy=\"chain_of_thought\")\n",
    "\n",
    "        # 3. Tokenize the dataset for the main model\n",
    "        tokenizer = AutoTokenizer.from_pretrained(MODEL_NAME)\n",
    "        if tokenizer.pad_token is None:\n",
    "            tokenizer.pad_token = tokenizer.eos_token\n",
    "        def tokenize_function(examples):\n",
    "            return tokenizer(examples[\"utterance\"], truncation=True, max_length=128)\n",
    "        tokenized_dataset = dataset.map(tokenize_function, batched=True, remove_columns=[\"utterance\"])\n",
    "\n",
    "        # 4. Fine-Tune LoRA model\n",
    "        lora_trainer_instance = LoRATrainer(model_name=MODEL_NAME)\n",
    "        trained_lora_model = lora_trainer_instance.train(tokenized_dataset)\n",
    "\n",
    "        # 5. Print and Save Final LoRA Model Results\n",
    "        print(\"\\n--- Evaluating Final LoRA Model on Test Set ---\")\n",
    "        final_results = trained_lora_model.evaluate(tokenized_dataset[\"test\"])\n",
    "        print(\"\\n--- Final LoRA Model Performance ---\")\n",
    "        for key, value in final_results.items():\n",
    "            if \"eval\" in key:\n",
    "                print(f\"{key.replace('eval_', '').capitalize()}: {value:.4f}\")\n",
    "        with open(\"final_lora_evaluation.json\", \"w\") as f:\n",
    "            json.dump(final_results, f, indent=4)\n",
    "        print(\"\\nFull evaluation results saved to final_lora_evaluation.json\")\n",
    "\n",
    "        # 6. Print LoRA Performance Per Epoch\n",
    "        print(\"\\n--- LoRA Performance Per Epoch (on Validation Set) ---\")\n",
    "        for log in trained_lora_model.state.log_history:\n",
    "            if 'eval_loss' in log: # Filter for evaluation logs\n",
    "                epoch = log.get('epoch', 'N/A')\n",
    "                accuracy = log.get('eval_accuracy', 'N/A')\n",
    "                f1_macro = log.get('eval_f1_macro', 'N/A')\n",
    "                print(f\"Epoch {epoch:.2f}: Accuracy = {accuracy:.4f}, Macro-F1 = {f1_macro:.4f}\")"
   ]
  },
  {
   "cell_type": "code",
   "execution_count": 12,
   "metadata": {},
   "outputs": [
    {
     "name": "stdout",
     "output_type": "stream",
     "text": [
      "[{'loss': 4.4747, 'grad_norm': 62.14931869506836, 'learning_rate': 4.9000000000000005e-06, 'epoch': 0.32679738562091504, 'step': 50}, {'loss': 3.8371, 'grad_norm': 42.60260009765625, 'learning_rate': 9.900000000000002e-06, 'epoch': 0.6535947712418301, 'step': 100}, {'loss': 3.2562, 'grad_norm': 58.35219955444336, 'learning_rate': 1.49e-05, 'epoch': 0.9803921568627451, 'step': 150}, {'eval_loss': 2.685988426208496, 'eval_accuracy': 0.07339449541284404, 'eval_f1_macro': 0.07108585858585859, 'eval_runtime': 5.3428, 'eval_samples_per_second': 20.401, 'eval_steps_per_second': 5.241, 'epoch': 1.0, 'step': 153}, {'loss': 2.3217, 'grad_norm': 33.53816223144531, 'learning_rate': 1.9900000000000003e-05, 'epoch': 1.3071895424836601, 'step': 200}, {'loss': 1.9383, 'grad_norm': 33.72786331176758, 'learning_rate': 2.4900000000000002e-05, 'epoch': 1.6339869281045751, 'step': 250}, {'loss': 2.0126, 'grad_norm': 32.48226547241211, 'learning_rate': 2.9900000000000002e-05, 'epoch': 1.9607843137254903, 'step': 300}, {'eval_loss': 1.9482144117355347, 'eval_accuracy': 0.3761467889908257, 'eval_f1_macro': 0.13209841628959276, 'eval_runtime': 3.6936, 'eval_samples_per_second': 29.511, 'eval_steps_per_second': 7.581, 'epoch': 2.0, 'step': 306}, {'loss': 1.6972, 'grad_norm': 37.65964889526367, 'learning_rate': 3.49e-05, 'epoch': 2.287581699346405, 'step': 350}, {'loss': 1.7438, 'grad_norm': 34.383018493652344, 'learning_rate': 3.99e-05, 'epoch': 2.6143790849673203, 'step': 400}, {'loss': 1.6783, 'grad_norm': 35.34370040893555, 'learning_rate': 4.49e-05, 'epoch': 2.9411764705882355, 'step': 450}, {'eval_loss': 1.7568824291229248, 'eval_accuracy': 0.44954128440366975, 'eval_f1_macro': 0.17243015897515046, 'eval_runtime': 3.6387, 'eval_samples_per_second': 29.956, 'eval_steps_per_second': 7.695, 'epoch': 3.0, 'step': 459}, {'loss': 1.4427, 'grad_norm': 28.640804290771484, 'learning_rate': 4.99e-05, 'epoch': 3.2679738562091503, 'step': 500}, {'loss': 1.3533, 'grad_norm': 38.45693588256836, 'learning_rate': 4.075471698113208e-05, 'epoch': 3.5947712418300655, 'step': 550}, {'loss': 1.3622, 'grad_norm': 41.704044342041016, 'learning_rate': 3.132075471698113e-05, 'epoch': 3.9215686274509802, 'step': 600}, {'eval_loss': 1.6244982481002808, 'eval_accuracy': 0.46788990825688076, 'eval_f1_macro': 0.2446880644624506, 'eval_runtime': 3.5956, 'eval_samples_per_second': 30.315, 'eval_steps_per_second': 7.787, 'epoch': 4.0, 'step': 612}, {'loss': 1.0133, 'grad_norm': 44.59122848510742, 'learning_rate': 2.188679245283019e-05, 'epoch': 4.248366013071895, 'step': 650}, {'loss': 0.9542, 'grad_norm': 50.31708908081055, 'learning_rate': 1.2452830188679246e-05, 'epoch': 4.57516339869281, 'step': 700}, {'loss': 1.0032, 'grad_norm': 33.33671188354492, 'learning_rate': 3.018867924528302e-06, 'epoch': 4.901960784313726, 'step': 750}, {'eval_loss': 1.6149386167526245, 'eval_accuracy': 0.5045871559633027, 'eval_f1_macro': 0.27814840135654356, 'eval_runtime': 3.596, 'eval_samples_per_second': 30.311, 'eval_steps_per_second': 7.786, 'epoch': 5.0, 'step': 765}, {'train_runtime': 258.7744, 'train_samples_per_second': 11.825, 'train_steps_per_second': 2.956, 'total_flos': 433021943906304.0, 'train_loss': 1.9841442507076887, 'epoch': 5.0, 'step': 765}, {'eval_loss': 1.487680435180664, 'eval_accuracy': 0.53125, 'eval_f1_macro': 0.2643557422969187, 'eval_runtime': 12.6218, 'eval_samples_per_second': 10.141, 'eval_steps_per_second': 2.535, 'epoch': 5.0, 'step': 765}]\n"
     ]
    }
   ],
   "source": [
    "print(trained_lora_model.state.log_history)"
   ]
  },
  {
   "cell_type": "code",
   "execution_count": 8,
   "metadata": {},
   "outputs": [],
   "source": [
    "def plot_loss_curves(log_history):\n",
    "    \"\"\"\n",
    "    Plots the training and validation loss curves from the trainer's log history.\n",
    "    \"\"\"\n",
    "    train_logs = [log for log in log_history if 'loss' in log]\n",
    "    val_logs = [log for log in log_history if 'eval_loss' in log]\n",
    "\n",
    "    plt.figure(figsize=(10, 6))\n",
    "    plt.plot([log['step'] for log in train_logs], [log['loss'] for log in train_logs], label='Training Loss')\n",
    "    plt.plot([log['step'] for log in val_logs], [log['eval_loss'] for log in val_logs], label='Validation Loss')\n",
    "    \n",
    "    plt.title('Training vs. Validation Loss')\n",
    "    plt.xlabel('Training Steps')\n",
    "    plt.ylabel('Loss')\n",
    "    plt.legend()\n",
    "    plt.grid(True)\n",
    "    plt.savefig(\"training_validation_loss_curve.png\")\n",
    "    print(\"\\nLoss curve graph saved to training_validation_loss_curve.png\")\n",
    "    plt.show()"
   ]
  },
  {
   "cell_type": "code",
   "execution_count": 10,
   "metadata": {},
   "outputs": [
    {
     "name": "stdout",
     "output_type": "stream",
     "text": [
      "\n",
      "Loss curve graph saved to training_validation_loss_curve.png\n"
     ]
    },
    {
     "data": {
      "image/png": "[encoded data removed]",
      "text/plain": [
       "<Figure size 1000x600 with 1 Axes>"
      ]
     },
     "metadata": {},
     "output_type": "display_data"
    }
   ],
   "source": [
    "plot_loss_curves(trained_lora_model.state.log_history)"
   ]
  },
  {
   "cell_type": "code",
   "execution_count": 9,
   "metadata": {},
   "outputs": [],
   "source": [
    "import torch\n",
    "if torch.backends.mps.is_available():\n",
    "    torch.mps.empty_cache()"
   ]
  },
  {
   "cell_type": "code",
   "execution_count": 17,
   "metadata": {},
   "outputs": [
    {
     "name": "stderr",
     "output_type": "stream",
     "text": [
      "Python(88998) MallocStackLogging: can't turn off malloc stack logging because it was not enabled.\n",
      "huggingface/tokenizers: The current process just got forked, after parallelism has already been used. Disabling parallelism to avoid deadlocks...\n",
      "To disable this warning, you can either:\n",
      "\t- Avoid using `tokenizers` before the fork if possible\n",
      "\t- Explicitly set the environment variable TOKENIZERS_PARALLELISM=(true | false)\n"
     ]
    },
    {
     "name": "stdout",
     "output_type": "stream",
     "text": [
      "Defaulting to user installation because normal site-packages is not writeable\n",
      "Requirement already satisfied: bitsandbytes in /Users/zixili/Library/Python/3.9/lib/python/site-packages (0.42.0)\n",
      "Requirement already satisfied: scipy in /Users/zixili/Library/Python/3.9/lib/python/site-packages (from bitsandbytes) (1.13.1)\n",
      "Requirement already satisfied: numpy<2.3,>=1.22.4 in /Users/zixili/Library/Python/3.9/lib/python/site-packages (from scipy->bitsandbytes) (2.0.2)\n",
      "\u001b[33mWARNING: You are using pip version 21.2.4; however, version 25.2 is available.\n",
      "You should consider upgrading via the '/Library/Developer/CommandLineTools/usr/bin/python3 -m pip install --upgrade pip' command.\u001b[0m\n",
      "Note: you may need to restart the kernel to use updated packages.\n"
     ]
    }
   ],
   "source": [
    "pip install --upgrade bitsandbytes"
   ]
  },
  {
   "cell_type": "code",
   "execution_count": null,
   "metadata": {},
   "outputs": [],
   "source": [
    "pip install pandas transformers peft datasets scikit-learn torch bitsandbytes"
   ]
  },
  {
   "cell_type": "code",
   "execution_count": 6,
   "metadata": {},
   "outputs": [
    {
     "name": "stdout",
     "output_type": "stream",
     "text": [
      "Defaulting to user installation because normal site-packages is not writeable\n",
      "Collecting matplotlib\n",
      "  Downloading matplotlib-3.9.4-cp39-cp39-macosx_11_0_arm64.whl (7.8 MB)\n",
      "\u001b[K     |████████████████████████████████| 7.8 MB 4.7 MB/s eta 0:00:01\n",
      "\u001b[?25hCollecting pillow>=8\n",
      "  Downloading pillow-11.3.0-cp39-cp39-macosx_11_0_arm64.whl (4.7 MB)\n",
      "\u001b[K     |████████████████████████████████| 4.7 MB 12.0 MB/s eta 0:00:01\n",
      "\u001b[?25hCollecting pyparsing>=2.3.1\n",
      "  Downloading pyparsing-3.2.3-py3-none-any.whl (111 kB)\n",
      "\u001b[K     |████████████████████████████████| 111 kB 61.1 MB/s eta 0:00:01\n",
      "\u001b[?25hCollecting contourpy>=1.0.1\n",
      "  Downloading contourpy-1.3.0-cp39-cp39-macosx_11_0_arm64.whl (249 kB)\n",
      "\u001b[K     |████████████████████████████████| 249 kB 19.7 MB/s eta 0:00:01\n",
      "\u001b[?25hRequirement already satisfied: numpy>=1.23 in /Users/zixili/Library/Python/3.9/lib/python/site-packages (from matplotlib) (2.0.2)\n",
      "Collecting kiwisolver>=1.3.1\n",
      "  Downloading kiwisolver-1.4.7-cp39-cp39-macosx_11_0_arm64.whl (64 kB)\n",
      "\u001b[K     |████████████████████████████████| 64 kB 20.7 MB/s eta 0:00:01\n",
      "\u001b[?25hRequirement already satisfied: packaging>=20.0 in /Users/zixili/Library/Python/3.9/lib/python/site-packages (from matplotlib) (24.2)\n",
      "Collecting importlib-resources>=3.2.0\n",
      "  Downloading importlib_resources-6.5.2-py3-none-any.whl (37 kB)\n",
      "Collecting cycler>=0.10\n",
      "  Downloading cycler-0.12.1-py3-none-any.whl (8.3 kB)\n",
      "Collecting fonttools>=4.22.0\n",
      "  Downloading fonttools-4.59.0-cp39-cp39-macosx_10_9_universal2.whl (2.8 MB)\n",
      "\u001b[K     |████████████████████████████████| 2.8 MB 86.1 MB/s eta 0:00:01\n",
      "\u001b[?25hRequirement already satisfied: python-dateutil>=2.7 in /Users/zixili/Library/Python/3.9/lib/python/site-packages (from matplotlib) (2.9.0.post0)\n",
      "Requirement already satisfied: zipp>=3.1.0 in /Users/zixili/Library/Python/3.9/lib/python/site-packages (from importlib-resources>=3.2.0->matplotlib) (3.21.0)\n",
      "Requirement already satisfied: six>=1.5 in /Library/Developer/CommandLineTools/Library/Frameworks/Python3.framework/Versions/3.9/lib/python3.9/site-packages (from python-dateutil>=2.7->matplotlib) (1.15.0)\n",
      "Installing collected packages: pyparsing, pillow, kiwisolver, importlib-resources, fonttools, cycler, contourpy, matplotlib\n",
      "Successfully installed contourpy-1.3.0 cycler-0.12.1 fonttools-4.59.0 importlib-resources-6.5.2 kiwisolver-1.4.7 matplotlib-3.9.4 pillow-11.3.0 pyparsing-3.2.3\n",
      "\u001b[33mWARNING: You are using pip version 21.2.4; however, version 25.2 is available.\n",
      "You should consider upgrading via the '/Library/Developer/CommandLineTools/usr/bin/python3 -m pip install --upgrade pip' command.\u001b[0m\n",
      "Note: you may need to restart the kernel to use updated packages.\n"
     ]
    }
   ],
   "source": [
    "pip install matplotlib"
   ]
  }
 ],
 "metadata": {
  "kernelspec": {
   "display_name": "Python 3",
   "language": "python",
   "name": "python3"
  },
  "language_info": {
   "codemirror_mode": {
    "name": "ipython",
    "version": 3
   },
   "file_extension": ".py",
   "mimetype": "text/x-python",
   "name": "python",
   "nbconvert_exporter": "python",
   "pygments_lexer": "ipython3",
   "version": "3.9.6"
  }
 },
 "nbformat": 4,
 "nbformat_minor": 2
}
